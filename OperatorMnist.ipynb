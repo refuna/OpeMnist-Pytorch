{
 "cells": [
  {
   "cell_type": "code",
   "execution_count": null,
   "metadata": {
    "scrolled": true
   },
   "outputs": [],
   "source": [
    "import torch\n",
    "from torchvision import datasets, transforms\n",
    "from torch.utils.data import Dataset, DataLoader, RandomSampler\n",
    "import matplotlib.pyplot as plt"
   ]
  },
  {
   "cell_type": "code",
   "execution_count": 2,
   "metadata": {},
   "outputs": [],
   "source": [
    "class SumMNIST(Dataset):\n",
    "    def __init__(self, mnist_dataset, im_per_epoch=60_000):\n",
    "        self.mnist_dataset = mnist_dataset\n",
    "        self.im_per_epoch = im_per_epoch\n",
    "        \n",
    "        if im_per_epoch > len(mnist_dataset):\n",
    "            replacement = True\n",
    "        else:\n",
    "            replacement = False\n",
    "            \n",
    "        self.sample_im1 = list(RandomSampler(mnist_dataset, replacement=replacement, num_samples=im_per_epoch))\n",
    "        self.sample_im2 = list(RandomSampler(mnist_dataset, replacement=replacement, num_samples=im_per_epoch))\n",
    "        \n",
    "    def __len__(self):\n",
    "        return self.im_per_epoch\n",
    "        \n",
    "        \n",
    "    def __getitem__(self,idx):\n",
    "        # if torch.is_tensor(idx):\n",
    "        #     idx = idx.tolist()\n",
    "        digit1, label1 = self.mnist_dataset[self.sample_im1[idx]]\n",
    "        digit2, label2 = self.mnist_dataset[self.sample_im2[idx]]\n",
    "        \n",
    "        return digit1, digit2, label1 + label2\n",
    "    "
   ]
  },
  {
   "cell_type": "code",
   "execution_count": 3,
   "metadata": {},
   "outputs": [],
   "source": [
    "\n",
    "def get_train_test_loader():\n",
    "    batch_size = 64\n",
    "    # transform = transforms.Compose([transforms.ToTensor(), transforms.Normalize((0.1307, ), (0, 0.3081, ))])\n",
    "    # transform = transforms.Compose(transforms.ToTensor())\n",
    "\n",
    "    train_dataset = datasets.MNIST(root='../dataset', train=True, download=True, transform=transforms.ToTensor())\n",
    "    test_dataset = datasets.MNIST(root='../dataset/', train=False, download=True, transform=transforms.ToTensor())\n",
    "    \n",
    "    train_datasetS = SumMNIST(train_dataset, im_per_epoch=60_000)\n",
    "    test_datasetS = SumMNIST(test_dataset, im_per_epoch=60_000)\n",
    "    \n",
    "    train_loader = DataLoader(train_datasetS, batch_size=batch_size, shuffle=True)\n",
    "    test_loader = DataLoader(test_datasetS, batch_size=batch_size, shuffle=False)\n",
    "    \n",
    "    return train_loader, test_loader"
   ]
  },
  {
   "cell_type": "code",
   "execution_count": 4,
   "metadata": {},
   "outputs": [
    {
     "data": {
      "image/png": "[encoded data removed]",
      "text/plain": [
       "<Figure size 500x500 with 2 Axes>"
      ]
     },
     "metadata": {},
     "output_type": "display_data"
    }
   ],
   "source": [
    "# plot images\n",
    "\n",
    "if __name__ == '__main__':\n",
    "    train_loader, test_loader = get_train_test_loader()\n",
    "    \n",
    "    for im1, im2, sum in train_loader:\n",
    "        im1 = im1[0]\n",
    "        im2 = im2[0]\n",
    "        \n",
    "        fig = plt.figure(figsize=(5, 5))\n",
    "        fig.suptitle(f'Sum = {sum[0].numpy()}', fontsize=14)\n",
    "        plt.subplot(1, 2, 1)\n",
    "        plt.imshow(im1.squeeze().numpy(), cmap='gray')\n",
    "        plt.subplot(1, 2, 2)\n",
    "        plt.imshow(im2.squeeze().numpy(), cmap='gray')\n",
    "        plt.show()\n",
    "        break "
   ]
  },
  {
   "cell_type": "code",
   "execution_count": 5,
   "metadata": {},
   "outputs": [],
   "source": [
    "import torch.nn as nn\n",
    "import torch.nn.functional as F"
   ]
  },
  {
   "cell_type": "code",
   "execution_count": 6,
   "metadata": {},
   "outputs": [],
   "source": [
    "#  create the model\n",
    "class SumNet(nn.Module):\n",
    "    def __init__(self):\n",
    "        super(SumNet, self).__init__()\n",
    "        self.conv1 = nn.Conv2d(1, 32, 3, 1)\n",
    "        self.conv2 = nn.Conv2d(32, 64, 3, 1)\n",
    "        self.dropout1 = nn.Dropout(0.25)\n",
    "        self.dropout2 = nn.Dropout(0.5)\n",
    "        self.fc1 = nn.Linear(9216, 128) # 9216\n",
    "    \n",
    "        self.concat_layer1 = nn.Linear(256, 256) # 256, 256\n",
    "        self.concat_layer2 = nn.Linear(256, 19) # 256, 19\n",
    "        \n",
    "        \n",
    "    def forward_one_image(self, x):\n",
    "        x = self.conv1(x)\n",
    "        x = F.relu(x)\n",
    "        x = self.conv2(x)\n",
    "        x = F.relu(x)\n",
    "        x = F.max_pool2d(x, 2)\n",
    "        x = self.dropout1(x)\n",
    "        x = torch.flatten(x, 1)\n",
    "        x = self.fc1(x)\n",
    "        return x\n",
    "    \n",
    "    \n",
    "    def forward(self, im1, im2):\n",
    "        embedding_im1 = self.forward_one_image(im1)\n",
    "        embedding_im2 = self.forward_one_image(im2)\n",
    "        embedding_concat = torch.cat((embedding_im1, embedding_im2), 1)\n",
    "        embedding = self.concat_layer1(embedding_concat)\n",
    "        embedding = F.relu(embedding)\n",
    "        embedding = self.concat_layer2(embedding)\n",
    "        output = F.log_softmax(embedding, dim=1)\n",
    "        return output\n",
    "        \n",
    "\n",
    "        "
   ]
  },
  {
   "cell_type": "code",
   "execution_count": 7,
   "metadata": {},
   "outputs": [],
   "source": [
    "## train \n",
    "\n",
    "def train(model, device, train_loader, optimizer, num_epochs):\n",
    "    weight = torch.tensor([100/min(k + 1, 19 - k) for k in range(19)])\n",
    "    weight = weight.to(device)\n",
    "    model.train()\n",
    "    for epoch in range(num_epochs):\n",
    "        for batch_idx, (im1, im2, target) in enumerate(train_loader):\n",
    "            im1, im2, target = im1.to(device), im2.to(device), target.to(device)\n",
    "            optimizer.zero_grad()\n",
    "            output = model(im1, im2)\n",
    "            \n",
    "            loss = F.nll_loss(output, target, weight=weight)\n",
    "            loss.backward()\n",
    "            optimizer.step()\n",
    "            \n",
    "            if batch_idx % 100 == 0:\n",
    "                print('[{}/{}], [{}/{}], loss={: .4f}'.format(epoch, num_epochs, batch_idx, len(train_loader), loss))\n",
    "\n",
    "\n"
   ]
  },
  {
   "cell_type": "code",
   "execution_count": 8,
   "metadata": {},
   "outputs": [],
   "source": [
    "#  test \n",
    "def test(model, device, test_loader):\n",
    "    model.eval()\n",
    "    weight = torch.tensor([100 / min(k + 1, 19 - k) for k in range(19)])\n",
    "    weight = weight.to(device)\n",
    "    test_loss = 0\n",
    "    correct = 0\n",
    "    with torch.no_grad():\n",
    "        for im1, im2, target in test_loader:\n",
    "            im1, im2, target = im1.to(device), im2.to(device), target.to(device)\n",
    "            outputs = model(im1, im2)\n",
    "            \n",
    "            test_loss += F.nll_loss(outputs, target, weight=weight, reduction='sum')\n",
    "            pred = outputs.argmax(dim=1, keepdim=True)\n",
    "            correct += pred.eq(target.view_as(pred)).sum()\n",
    "            \n",
    "    test_loss /= len(test_loader.dataset)\n",
    "    accuracy = correct/len(test_loader.dataset)\n",
    "        \n",
    "    print('Average loss:{:4f}, Accuracy:{:4f}'.format(test_loss, accuracy))\n",
    "\n",
    "        \n"
   ]
  },
  {
   "cell_type": "code",
   "execution_count": 9,
   "metadata": {},
   "outputs": [
    {
     "name": "stdout",
     "output_type": "stream",
     "text": [
      "[0/3], [0/938], loss= 2.9478\n",
      "[0/3], [100/938], loss= 1.6247\n",
      "[0/3], [200/938], loss= 0.7761\n",
      "[0/3], [300/938], loss= 0.4815\n",
      "[0/3], [400/938], loss= 0.1924\n",
      "[0/3], [500/938], loss= 0.3491\n",
      "[0/3], [600/938], loss= 0.4521\n",
      "[0/3], [700/938], loss= 0.2615\n",
      "[0/3], [800/938], loss= 0.1788\n",
      "[0/3], [900/938], loss= 0.1237\n",
      "[1/3], [0/938], loss= 0.2441\n",
      "[1/3], [100/938], loss= 0.2399\n",
      "[1/3], [200/938], loss= 0.2085\n",
      "[1/3], [300/938], loss= 0.3249\n",
      "[1/3], [400/938], loss= 0.1485\n",
      "[1/3], [500/938], loss= 0.2379\n",
      "[1/3], [600/938], loss= 0.2213\n",
      "[1/3], [700/938], loss= 0.0495\n",
      "[1/3], [800/938], loss= 0.1201\n",
      "[1/3], [900/938], loss= 0.2562\n",
      "[2/3], [0/938], loss= 0.0556\n",
      "[2/3], [100/938], loss= 0.1402\n",
      "[2/3], [200/938], loss= 0.0545\n",
      "[2/3], [300/938], loss= 0.1207\n",
      "[2/3], [400/938], loss= 0.0735\n",
      "[2/3], [500/938], loss= 0.0992\n",
      "[2/3], [600/938], loss= 0.0745\n",
      "[2/3], [700/938], loss= 0.0665\n",
      "[2/3], [800/938], loss= 0.1702\n",
      "[2/3], [900/938], loss= 0.0942\n",
      "Average loss:2.074242, Accuracy:0.963283\n"
     ]
    }
   ],
   "source": [
    "if __name__ == '__main__':\n",
    "    device = torch.device('cuda' if torch.cuda.is_available() else 'cpu')\n",
    "    train_loader, test_loader = get_train_test_loader()\n",
    "    model = SumNet().to(device)\n",
    "    optimizer = torch.optim.Adam(model.parameters())\n",
    "    num_epochs = 3\n",
    "    train(model, device, train_loader, optimizer, num_epochs)\n",
    "    test(model, device, test_loader)"
   ]
  },
  {
   "cell_type": "code",
   "execution_count": null,
   "metadata": {},
   "outputs": [],
   "source": []
  }
 ],
 "metadata": {
  "kernelspec": {
   "display_name": "Python 3 (ipykernel)",
   "language": "python",
   "name": "python3"
  },
  "language_info": {
   "codemirror_mode": {
    "name": "ipython",
    "version": 3
   },
   "file_extension": ".py",
   "mimetype": "text/x-python",
   "name": "python",
   "nbconvert_exporter": "python",
   "pygments_lexer": "ipython3",
   "version": "3.9.12"
  },
  "vscode": {
   "interpreter": {
    "hash": "47621005d1398ddc2bdf3b8fb475991d84319111dd9f2041e6610a9798584b96"
   }
  }
 },
 "nbformat": 4,
 "nbformat_minor": 2
}
